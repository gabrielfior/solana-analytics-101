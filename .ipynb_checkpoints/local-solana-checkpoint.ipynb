{
 "cells": [
  {
   "cell_type": "code",
   "execution_count": 1,
   "id": "158aa820",
   "metadata": {},
   "outputs": [],
   "source": [
    "#from python_client.accounts import BaseAccount\n",
    "from solana.publickey import PublicKey\n",
    "from solana.rpc.async_api import AsyncClient\n",
    "from anchorpy import Program, Provider, Wallet\n",
    "from solana.keypair import Keypair\n",
    "from base64 import b64decode\n",
    "import base58\n",
    "import yaml\n",
    "from dataclasses import dataclass\n",
    "import json\n",
    "import pathlib\n",
    "import borsh_construct as borsh #from borsh_construct import U8, String, CStruct\n",
    "import asyncio\n",
    "from solana.rpc.websocket_api import connect\n",
    "from asyncstdlib import enumerate"
   ]
  },
  {
   "cell_type": "code",
   "execution_count": 2,
   "id": "4a95edba",
   "metadata": {},
   "outputs": [],
   "source": [
    "#!pip install pyyaml\n",
    "#!pip install asyncstdlib"
   ]
  },
  {
   "cell_type": "code",
   "execution_count": 3,
   "id": "f0fe0c83",
   "metadata": {},
   "outputs": [],
   "source": [
    "animal = borsh.CStruct(\n",
    "     \"counter\" / borsh.U32,\n",
    " )"
   ]
  },
  {
   "cell_type": "code",
   "execution_count": 4,
   "id": "2fbd1b36",
   "metadata": {},
   "outputs": [],
   "source": [
    "async def main(program_address):\n",
    "    async with AsyncClient(\"http://localhost:8899\") as client:\n",
    "        res = await client.is_connected()\n",
    "        resp= await client.get_account_info(program_address)\n",
    "        info = resp[\"result\"][\"value\"]\n",
    "        bytes_data = b64decode(info[\"data\"][0])\n",
    "        print (f'info {info}')\n",
    "        print (f'animal - {animal.parse(bytes_data)}')"
   ]
  },
  {
   "cell_type": "code",
   "execution_count": 5,
   "id": "4912b99e",
   "metadata": {},
   "outputs": [],
   "source": [
    "def get_greeted_pub_key(GREETER_SEED='hello'):\n",
    "    # programId\n",
    "    with open('/home/gabri/example-helloworld/dist/program/helloworld-keypair.json') as f:\n",
    "        keypair = Keypair.from_secret_key(bytes(json.load(f)[:32]))\n",
    "\n",
    "    programId = keypair.public_key\n",
    "\n",
    "    # payer\n",
    "    config = yaml.safe_load(open('/home/gabri/.config/solana/cli/config.yml'))\n",
    "    with open(config['keypair_path']) as f:\n",
    "        payer = Keypair.from_secret_key(bytes(json.load(f)[:32]))\n",
    "    \n",
    "    greetedPubkey = PublicKey.create_with_seed(payer.public_key,GREETER_SEED,programId)\n",
    "    return greetedPubkey"
   ]
  },
  {
   "cell_type": "code",
   "execution_count": 6,
   "id": "dd218809",
   "metadata": {},
   "outputs": [
    {
     "data": {
      "text/plain": [
       "2bt1NMJds5g4W1LwAeoVsMcUSa9qPD2PywAapBuLnpZw"
      ]
     },
     "execution_count": 6,
     "metadata": {},
     "output_type": "execute_result"
    }
   ],
   "source": [
    "greetedPubkey = get_greeted_pub_key()\n",
    "greetedPubkey"
   ]
  },
  {
   "cell_type": "code",
   "execution_count": 7,
   "id": "bb201706",
   "metadata": {},
   "outputs": [
    {
     "name": "stdout",
     "output_type": "stream",
     "text": [
      "info {'data': ['DgAAAA==', 'base64'], 'executable': False, 'lamports': 918720, 'owner': 'GcUtT2NrSk8TT3zVM4tvGvTwDgo7gnA7esXo4RKUfzWj', 'rentEpoch': 0}\n",
      "animal - Container: \n",
      "    counter = 14\n"
     ]
    }
   ],
   "source": [
    "await main(greetedPubkey)"
   ]
  },
  {
   "cell_type": "code",
   "execution_count": 8,
   "id": "7379bbb1",
   "metadata": {},
   "outputs": [
    {
     "name": "stdout",
     "output_type": "stream",
     "text": [
      "info {'data': ['BgAAAA==', 'base64'], 'executable': False, 'lamports': 918720, 'owner': 'GcUtT2NrSk8TT3zVM4tvGvTwDgo7gnA7esXo4RKUfzWj', 'rentEpoch': 0}\n",
      "animal - Container: \n",
      "    counter = 6\n"
     ]
    }
   ],
   "source": [
    "anotherGreetedPubKey = get_greeted_pub_key('hello_hello')\n",
    "await main(anotherGreetedPubKey)"
   ]
  },
  {
   "cell_type": "code",
   "execution_count": 9,
   "id": "0bb7eed4",
   "metadata": {},
   "outputs": [],
   "source": [
    "# getting multiple accounts"
   ]
  },
  {
   "cell_type": "code",
   "execution_count": 10,
   "id": "ce6da3bf",
   "metadata": {},
   "outputs": [],
   "source": [
    "client= AsyncClient(\"http://localhost:8899\")"
   ]
  },
  {
   "cell_type": "code",
   "execution_count": 11,
   "id": "13858c12",
   "metadata": {},
   "outputs": [
    {
     "data": {
      "text/plain": [
       "{'jsonrpc': '2.0',\n",
       " 'result': [{'account': {'data': 'Mkpwq',\n",
       "    'executable': False,\n",
       "    'lamports': 918720,\n",
       "    'owner': 'GcUtT2NrSk8TT3zVM4tvGvTwDgo7gnA7esXo4RKUfzWj',\n",
       "    'rentEpoch': 0},\n",
       "   'pubkey': '2bt1NMJds5g4W1LwAeoVsMcUSa9qPD2PywAapBuLnpZw'},\n",
       "  {'account': {'data': '9tvh5',\n",
       "    'executable': False,\n",
       "    'lamports': 918720,\n",
       "    'owner': 'GcUtT2NrSk8TT3zVM4tvGvTwDgo7gnA7esXo4RKUfzWj',\n",
       "    'rentEpoch': 0},\n",
       "   'pubkey': '97j9kXnLJsGcz6Nxu96rN5S6AEqhrkmuYqsWH1nmW632'}],\n",
       " 'id': 1}"
      ]
     },
     "execution_count": 11,
     "metadata": {},
     "output_type": "execute_result"
    }
   ],
   "source": [
    "programId = 'GcUtT2NrSk8TT3zVM4tvGvTwDgo7gnA7esXo4RKUfzWj'\n",
    "await client.get_program_accounts(PublicKey(programId))"
   ]
  },
  {
   "cell_type": "code",
   "execution_count": 12,
   "id": "dcbb94bf",
   "metadata": {},
   "outputs": [],
   "source": [
    "# ToDo - Try accounts subscribe"
   ]
  },
  {
   "cell_type": "code",
   "execution_count": 13,
   "id": "7f1705c9",
   "metadata": {},
   "outputs": [],
   "source": [
    "async def subscribe_accounts_and_print():\n",
    "    async with connect(\"ws://localhost:8900\") as websocket:\n",
    "        await websocket.logs_subscribe()\n",
    "        first_resp = await websocket.recv()\n",
    "        print (f'first_resp {first_resp}')\n",
    "        subscription_id = first_resp.result\n",
    "        print (f'subscription_id {subscription_id}')\n",
    "        next_resp = await websocket.recv()\n",
    "        print(f'next_resp {next_resp}')\n",
    "        await websocket.logs_unsubscribe(subscription_id)"
   ]
  },
  {
   "cell_type": "code",
   "execution_count": 37,
   "id": "d694811a",
   "metadata": {},
   "outputs": [
    {
     "name": "stdout",
     "output_type": "stream",
     "text": [
      "first_resp Ok(result=28, id=5)\n",
      "subscription_id 28\n",
      "next_resp LogsNotification(subscription=28, result=LogItemAndContext(context=Context(slot=71145), value=LogItem(err=None, signature='5NZEg5N1cL1BmwQtqdKnBmqFs2HiwPVVJ35kxud1MXNQjsZ8ytA51Vge4B8WfnjkG1eM5vko6VrjqRh6iqVYPhPD', logs=['Program GcUtT2NrSk8TT3zVM4tvGvTwDgo7gnA7esXo4RKUfzWj invoke [1]', 'Program log: Hello World Rust program entrypoint', 'Program log: Greeted 14 time(s)! Account AccountInfo { key: 2bt1NMJds5g4W1LwAeoVsMcUSa9qPD2PywAapBuLnpZw owner: GcUtT2NrSk8TT3zVM4tvGvTwDgo7gnA7esXo4RKUfzWj is_signer: false is_writable: true executable: false rent_epoch: 0 lamports: 918720 data.len: 4  data: 0e000000 ... }', 'Program GcUtT2NrSk8TT3zVM4tvGvTwDgo7gnA7esXo4RKUfzWj consumed 27144 of 200000 compute units', 'Program GcUtT2NrSk8TT3zVM4tvGvTwDgo7gnA7esXo4RKUfzWj success'])))\n"
     ]
    }
   ],
   "source": [
    "await subscribe_accounts_and_print()"
   ]
  },
  {
   "cell_type": "code",
   "execution_count": 51,
   "id": "066a1e89",
   "metadata": {},
   "outputs": [],
   "source": [
    "async def subscribe_accounts_and_print_enum(account_pubkey, l):\n",
    "    async with connect(\"ws://localhost:8900\") as websocket:\n",
    "        await websocket.account_subscribe(account_pubkey, encoding='base64')\n",
    "        first_resp = await websocket.recv()\n",
    "        print (f'first_resp {first_resp}')\n",
    "        subscription_id = first_resp.result\n",
    "        print (f'subscription_id {subscription_id}')\n",
    "        async for idx, msg in enumerate(websocket):\n",
    "            \n",
    "            l.append(msg)\n",
    "            counter, _base = msg.result.value.data\n",
    "            bytes_data = b64decode(counter)\n",
    "            print (f'counter - {animal.parse(bytes_data)}')\n",
    "            \n",
    "            print (f'msg {msg}')\n",
    "            \n",
    "            if idx == 1:\n",
    "                break\n",
    "        await websocket.account_unsubscribe(subscription_id)"
   ]
  },
  {
   "cell_type": "code",
   "execution_count": 52,
   "id": "9a4758fa",
   "metadata": {},
   "outputs": [
    {
     "name": "stdout",
     "output_type": "stream",
     "text": [
      "first_resp Ok(result=57, id=11)\n",
      "subscription_id 57\n",
      "counter - Container: \n",
      "    counter = 23\n",
      "msg AccountNotification(subscription=57, result=AccountInfoAndContext(context=Context(slot=74524), value=AccountInfo(lamports=918720, owner=GcUtT2NrSk8TT3zVM4tvGvTwDgo7gnA7esXo4RKUfzWj, data=('FwAAAA==', 'base64'), executable=False, rent_epoch=0)))\n",
      "counter - Container: \n",
      "    counter = 24\n",
      "msg AccountNotification(subscription=57, result=AccountInfoAndContext(context=Context(slot=74582), value=AccountInfo(lamports=918720, owner=GcUtT2NrSk8TT3zVM4tvGvTwDgo7gnA7esXo4RKUfzWj, data=('GAAAAA==', 'base64'), executable=False, rent_epoch=0)))\n"
     ]
    }
   ],
   "source": [
    "l = []\n",
    "await subscribe_accounts_and_print_enum(greetedPubkey, l)"
   ]
  },
  {
   "cell_type": "code",
   "execution_count": 53,
   "id": "a331ba2a",
   "metadata": {},
   "outputs": [
    {
     "data": {
      "text/plain": [
       "[AccountNotification(subscription=57, result=AccountInfoAndContext(context=Context(slot=74524), value=AccountInfo(lamports=918720, owner=GcUtT2NrSk8TT3zVM4tvGvTwDgo7gnA7esXo4RKUfzWj, data=('FwAAAA==', 'base64'), executable=False, rent_epoch=0))),\n",
       " AccountNotification(subscription=57, result=AccountInfoAndContext(context=Context(slot=74582), value=AccountInfo(lamports=918720, owner=GcUtT2NrSk8TT3zVM4tvGvTwDgo7gnA7esXo4RKUfzWj, data=('GAAAAA==', 'base64'), executable=False, rent_epoch=0)))]"
      ]
     },
     "execution_count": 53,
     "metadata": {},
     "output_type": "execute_result"
    }
   ],
   "source": [
    "l"
   ]
  },
  {
   "cell_type": "code",
   "execution_count": null,
   "id": "dd23bd70",
   "metadata": {},
   "outputs": [],
   "source": []
  }
 ],
 "metadata": {
  "kernelspec": {
   "display_name": "Python 3 (ipykernel)",
   "language": "python",
   "name": "python3"
  },
  "language_info": {
   "codemirror_mode": {
    "name": "ipython",
    "version": 3
   },
   "file_extension": ".py",
   "mimetype": "text/x-python",
   "name": "python",
   "nbconvert_exporter": "python",
   "pygments_lexer": "ipython3",
   "version": "3.9.12"
  }
 },
 "nbformat": 4,
 "nbformat_minor": 5
}
