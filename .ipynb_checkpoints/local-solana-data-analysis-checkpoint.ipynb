{
 "cells": [
  {
   "cell_type": "markdown",
   "id": "27b12ddc",
   "metadata": {},
   "source": [
    "## Goal\n",
    "\n",
    "The goal of this notebook is to demonstrate how to retrieve data from a local Solana cluster.\n",
    "We will retrieve simple hellos from multiple data accounts, and also show how to listen for updates on a given number of accounts."
   ]
  },
  {
   "cell_type": "code",
   "execution_count": null,
   "id": "2b5d9be2",
   "metadata": {},
   "outputs": [],
   "source": [
    "#from python_client.accounts import BaseAccount\n",
    "from solana.publickey import PublicKey\n",
    "from solana.rpc.async_api import AsyncClient\n",
    "from anchorpy import Program, Provider, Wallet\n",
    "from solana.keypair import Keypair\n",
    "from base64 import b64decode\n",
    "import base58\n",
    "import yaml\n",
    "from dataclasses import dataclass\n",
    "import json\n",
    "import pathlib\n",
    "import borsh_construct as borsh #from borsh_construct import U8, String, CStruct\n",
    "import asyncio\n",
    "from solana.rpc.websocket_api import connect\n",
    "from asyncstdlib import enumerate"
   ]
  },
  {
   "cell_type": "code",
   "execution_count": 2,
   "id": "4a95edba",
   "metadata": {},
   "outputs": [],
   "source": [
    "#!pip install pyyaml\n",
    "#!pip install asyncstdlib"
   ]
  },
  {
   "cell_type": "markdown",
   "id": "71cf5c43",
   "metadata": {},
   "source": [
    "We define a structure for deserializing Solana messages. See ```src/program-rust/src/lib.rs``` and see that this matches the format there."
   ]
  },
  {
   "cell_type": "code",
   "execution_count": 56,
   "id": "f0fe0c83",
   "metadata": {},
   "outputs": [],
   "source": [
    "counter_structure = borsh.CStruct(\n",
    "     \"counter\" / borsh.U32,\n",
    " )"
   ]
  },
  {
   "cell_type": "markdown",
   "id": "c4389a22",
   "metadata": {},
   "source": [
    "## Sync data retrieval"
   ]
  },
  {
   "cell_type": "markdown",
   "id": "1d25fd03",
   "metadata": {},
   "source": [
    "Now we want to fetch all initialized accounts that have received hellos. We first fetch our program_id and the derived greeted account."
   ]
  },
  {
   "cell_type": "code",
   "execution_count": 83,
   "id": "4912b99e",
   "metadata": {},
   "outputs": [],
   "source": [
    "def get_greeted_pub_key(GREETER_SEED='hello'):\n",
    "    # programId\n",
    "    keypair_path = pathlib.Path.cwd().joinpath('dist','program','helloworld-keypair.json')\n",
    "    with open(keypair_path) as f:\n",
    "        keypair = Keypair.from_secret_key(bytes(json.load(f)[:32]))\n",
    "\n",
    "    programId = keypair.public_key\n",
    "\n",
    "    # payer\n",
    "    config_path = pathlib.Path.home().joinpath('.config','solana','cli','config.yml')\n",
    "    config = yaml.safe_load(open(config_path))\n",
    "    with open(config['keypair_path']) as f:\n",
    "        payer = Keypair.from_secret_key(bytes(json.load(f)[:32]))\n",
    "    \n",
    "    greetedPubkey = PublicKey.create_with_seed(payer.public_key,GREETER_SEED,programId)\n",
    "    return greetedPubkey, programId"
   ]
  },
  {
   "cell_type": "code",
   "execution_count": 84,
   "id": "dd218809",
   "metadata": {},
   "outputs": [
    {
     "data": {
      "text/plain": [
       "(2bt1NMJds5g4W1LwAeoVsMcUSa9qPD2PywAapBuLnpZw,\n",
       " GcUtT2NrSk8TT3zVM4tvGvTwDgo7gnA7esXo4RKUfzWj)"
      ]
     },
     "execution_count": 84,
     "metadata": {},
     "output_type": "execute_result"
    }
   ],
   "source": [
    "greetedPubkey, programId = get_greeted_pub_key()\n",
    "greetedPubkey, programId"
   ]
  },
  {
   "cell_type": "markdown",
   "id": "731c869d",
   "metadata": {},
   "source": [
    "Now we fetch all accounts owned by the program_id."
   ]
  },
  {
   "cell_type": "code",
   "execution_count": 108,
   "id": "630a9607",
   "metadata": {},
   "outputs": [
    {
     "data": {
      "text/plain": [
       "{'jsonrpc': '2.0',\n",
       " 'result': [{'account': {'data': 'cahmH',\n",
       "    'executable': False,\n",
       "    'lamports': 918720,\n",
       "    'owner': 'GcUtT2NrSk8TT3zVM4tvGvTwDgo7gnA7esXo4RKUfzWj',\n",
       "    'rentEpoch': 0},\n",
       "   'pubkey': '2bt1NMJds5g4W1LwAeoVsMcUSa9qPD2PywAapBuLnpZw'},\n",
       "  {'account': {'data': 'QioWX',\n",
       "    'executable': False,\n",
       "    'lamports': 918720,\n",
       "    'owner': 'GcUtT2NrSk8TT3zVM4tvGvTwDgo7gnA7esXo4RKUfzWj',\n",
       "    'rentEpoch': 0},\n",
       "   'pubkey': '97j9kXnLJsGcz6Nxu96rN5S6AEqhrkmuYqsWH1nmW632'}],\n",
       " 'id': 3}"
      ]
     },
     "execution_count": 108,
     "metadata": {},
     "output_type": "execute_result"
    }
   ],
   "source": [
    "program_accounts = await client.get_program_accounts(PublicKey(programId))\n",
    "program_accounts"
   ]
  },
  {
   "cell_type": "code",
   "execution_count": 115,
   "id": "600c50a6",
   "metadata": {},
   "outputs": [],
   "source": [
    "#counter_structure.parse(base58.b58decode('cahmH'))"
   ]
  },
  {
   "cell_type": "markdown",
   "id": "0ccf23ef",
   "metadata": {},
   "source": [
    "Now we retrieve the account information for each account.\n",
    "Note that the ```program_accounts``` object already displays the data, but the base is not available."
   ]
  },
  {
   "cell_type": "code",
   "execution_count": 116,
   "id": "eb1638e7",
   "metadata": {},
   "outputs": [],
   "source": [
    "async def get_account_info(program_address):\n",
    "    async with AsyncClient(\"http://localhost:8899\") as client:\n",
    "        res = await client.is_connected()\n",
    "        resp= await client.get_account_info(program_address)\n",
    "        info = resp[\"result\"][\"value\"]\n",
    "        data, base = info[\"data\"]\n",
    "        if base == 'base64':\n",
    "            bytes_data = b64decode(data)\n",
    "        elif base == 'base58':\n",
    "            bytes_data = base58.b58decode(data)\n",
    "        else:\n",
    "            raise Exception('base cannot be processed')\n",
    "        \n",
    "        print (counter_structure.parse(bytes_data))"
   ]
  },
  {
   "cell_type": "code",
   "execution_count": 117,
   "id": "406187cd",
   "metadata": {},
   "outputs": [
    {
     "name": "stdout",
     "output_type": "stream",
     "text": [
      "Container: \n",
      "    counter = 24\n",
      "Container: \n",
      "    counter = 16\n"
     ]
    }
   ],
   "source": [
    "for pubKeystr in [i['pubkey'] for i in program_accounts['result']]:\n",
    "    await get_account_info(PublicKey(pubKeystr))"
   ]
  },
  {
   "cell_type": "markdown",
   "id": "c90a7b1d",
   "metadata": {},
   "source": [
    "## Async data retrieval"
   ]
  },
  {
   "cell_type": "markdown",
   "id": "6fdd455a",
   "metadata": {},
   "source": [
    "The Solana RPC also offers a websocket client. We can use that to subscribe to transactions, logs and of course accounts, which is what we will do next."
   ]
  },
  {
   "cell_type": "code",
   "execution_count": 124,
   "id": "ac0d2f4b",
   "metadata": {},
   "outputs": [],
   "source": [
    "async def subscribe_accounts(account_pubkey, data_container):\n",
    "    \"\"\"\n",
    "    We subscribe to accounts and output the messages to the list given as input.\n",
    "    We break after we received 1 message.\n",
    "    \"\"\"\n",
    "    async with connect(\"ws://localhost:8900\") as websocket:\n",
    "        await websocket.account_subscribe(account_pubkey, encoding='base64')\n",
    "        first_resp = await websocket.recv()\n",
    "        subscription_id = first_resp.result\n",
    "        async for idx, msg in enumerate(websocket):\n",
    "            \n",
    "            data_container.append(msg)\n",
    "            counter, _base = msg.result.value.data\n",
    "            bytes_data = b64decode(counter)\n",
    "            print (f'counter - {animal.parse(bytes_data)}')\n",
    "            \n",
    "            print (f'msg {msg}')\n",
    "            \n",
    "            if idx == 0:\n",
    "                break\n",
    "        await websocket.account_unsubscribe(subscription_id)"
   ]
  },
  {
   "cell_type": "markdown",
   "id": "5d5a816d",
   "metadata": {},
   "source": [
    "We trigger the function and are now waiting for msgs to arrive (with infinite timeout). Go ahead and send a hello using ```npm start``` and check back the output here."
   ]
  },
  {
   "cell_type": "code",
   "execution_count": 123,
   "id": "34889417",
   "metadata": {},
   "outputs": [
    {
     "name": "stdout",
     "output_type": "stream",
     "text": [
      "first_resp Ok(result=67, id=15)\n",
      "subscription_id 67\n",
      "first_resp Ok(result=68, id=16)\n",
      "subscription_id 68\n",
      "counter - Container: \n",
      "    counter = 27\n",
      "msg AccountNotification(subscription=67, result=AccountInfoAndContext(context=Context(slot=83455), value=AccountInfo(lamports=918720, owner=GcUtT2NrSk8TT3zVM4tvGvTwDgo7gnA7esXo4RKUfzWj, data=('GwAAAA==', 'base64'), executable=False, rent_epoch=0)))\n",
      "counter - Container: \n",
      "    counter = 19\n",
      "msg AccountNotification(subscription=68, result=AccountInfoAndContext(context=Context(slot=83456), value=AccountInfo(lamports=918720, owner=GcUtT2NrSk8TT3zVM4tvGvTwDgo7gnA7esXo4RKUfzWj, data=('EwAAAA==', 'base64'), executable=False, rent_epoch=0)))\n",
      "counter - Container: \n",
      "    counter = 28\n",
      "msg AccountNotification(subscription=67, result=AccountInfoAndContext(context=Context(slot=83517), value=AccountInfo(lamports=918720, owner=GcUtT2NrSk8TT3zVM4tvGvTwDgo7gnA7esXo4RKUfzWj, data=('HAAAAA==', 'base64'), executable=False, rent_epoch=0)))\n",
      "counter - Container: \n",
      "    counter = 20\n",
      "msg AccountNotification(subscription=68, result=AccountInfoAndContext(context=Context(slot=83518), value=AccountInfo(lamports=918720, owner=GcUtT2NrSk8TT3zVM4tvGvTwDgo7gnA7esXo4RKUfzWj, data=('FAAAAA==', 'base64'), executable=False, rent_epoch=0)))\n"
     ]
    },
    {
     "data": {
      "text/plain": [
       "[None, None]"
      ]
     },
     "execution_count": 123,
     "metadata": {},
     "output_type": "execute_result"
    }
   ],
   "source": [
    "msgs = []\n",
    "await asyncio.gather(\n",
    "      subscribe_accounts_and_print_enum(greetedPubkey, msgs),\n",
    "      subscribe_accounts_and_print_enum(anotherGreetedPubKey, msgs)\n",
    "    )"
   ]
  },
  {
   "cell_type": "code",
   "execution_count": 125,
   "id": "b8807839",
   "metadata": {},
   "outputs": [
    {
     "data": {
      "text/plain": [
       "[AccountNotification(subscription=67, result=AccountInfoAndContext(context=Context(slot=83455), value=AccountInfo(lamports=918720, owner=GcUtT2NrSk8TT3zVM4tvGvTwDgo7gnA7esXo4RKUfzWj, data=('GwAAAA==', 'base64'), executable=False, rent_epoch=0))),\n",
       " AccountNotification(subscription=68, result=AccountInfoAndContext(context=Context(slot=83456), value=AccountInfo(lamports=918720, owner=GcUtT2NrSk8TT3zVM4tvGvTwDgo7gnA7esXo4RKUfzWj, data=('EwAAAA==', 'base64'), executable=False, rent_epoch=0))),\n",
       " AccountNotification(subscription=67, result=AccountInfoAndContext(context=Context(slot=83517), value=AccountInfo(lamports=918720, owner=GcUtT2NrSk8TT3zVM4tvGvTwDgo7gnA7esXo4RKUfzWj, data=('HAAAAA==', 'base64'), executable=False, rent_epoch=0))),\n",
       " AccountNotification(subscription=68, result=AccountInfoAndContext(context=Context(slot=83518), value=AccountInfo(lamports=918720, owner=GcUtT2NrSk8TT3zVM4tvGvTwDgo7gnA7esXo4RKUfzWj, data=('FAAAAA==', 'base64'), executable=False, rent_epoch=0)))]"
      ]
     },
     "execution_count": 125,
     "metadata": {},
     "output_type": "execute_result"
    }
   ],
   "source": [
    "msgs"
   ]
  },
  {
   "cell_type": "markdown",
   "id": "2d17bab2",
   "metadata": {},
   "source": [
    "Now that you have the msgs object, you can process them meaningfully, for example store in a PostgreSQL database.\n",
    "A plugin (https://github.com/solana-labs/solana-accountsdb-plugin-postgres) was developed for storing transactions long-term in an external PostgreSQL database."
   ]
  },
  {
   "cell_type": "code",
   "execution_count": null,
   "id": "8e7f3b1d",
   "metadata": {},
   "outputs": [],
   "source": []
  },
  {
   "cell_type": "code",
   "execution_count": null,
   "id": "9ebc99a7",
   "metadata": {},
   "outputs": [],
   "source": []
  }
 ],
 "metadata": {
  "kernelspec": {
   "display_name": "Python 3 (ipykernel)",
   "language": "python",
   "name": "python3"
  },
  "language_info": {
   "codemirror_mode": {
    "name": "ipython",
    "version": 3
   },
   "file_extension": ".py",
   "mimetype": "text/x-python",
   "name": "python",
   "nbconvert_exporter": "python",
   "pygments_lexer": "ipython3",
   "version": "3.9.12"
  }
 },
 "nbformat": 4,
 "nbformat_minor": 5
}
