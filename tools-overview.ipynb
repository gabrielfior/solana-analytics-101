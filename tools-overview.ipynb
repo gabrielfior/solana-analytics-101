{
 "cells": [
  {
   "cell_type": "markdown",
   "id": "f82a40a3",
   "metadata": {},
   "source": [
    "## Goal\n",
    "\n",
    "This notebook describes some of the tools I find useful when developing analytics projects."
   ]
  },
  {
   "cell_type": "markdown",
   "id": "8c514838",
   "metadata": {},
   "source": [
    "### Switchboard\n",
    "\n",
    "Decentralized oracle provider. Anybody can publish/read from Oracle.\n",
    "\n",
    "https://github.com/switchboard-xyz/switchboard-v2/tree/main/libraries/py"
   ]
  },
  {
   "cell_type": "code",
   "execution_count": 20,
   "id": "1c5f41b1",
   "metadata": {},
   "outputs": [],
   "source": [
    "import asyncio\n",
    "from solana.keypair import Keypair\n",
    "from solana.publickey import PublicKey\n",
    "from solana.rpc.async_api import AsyncClient\n",
    "from anchorpy import Program, Provider, Wallet\n",
    "from switchboardpy import AggregatorAccount, AccountParams\n",
    "import itertools\n",
    "from switchboardpy import (\n",
    "  SBV2_DEVNET_PID,\n",
    "  AccountParams,\n",
    "  OracleAccount,\n",
    "  OracleInitParams,\n",
    "  OracleWithdrawParams,\n",
    ")"
   ]
  },
  {
   "cell_type": "code",
   "execution_count": 10,
   "id": "bac4a9f6",
   "metadata": {},
   "outputs": [
    {
     "name": "stdout",
     "output_type": "stream",
     "text": [
      "LATEST VALUE (SOL/USDC):\n",
      "39.9073563125\n"
     ]
    }
   ],
   "source": [
    "# Devnet Program ID.\n",
    "SBV2_DEVNET_PID = PublicKey(\n",
    "    '2TfB33aLaneQb5TNVwyDz3jSZXS6jdW2ARw1Dgf84XCG'\n",
    ")\n",
    "client = AsyncClient(\"https://api.devnet.solana.com/\")\n",
    "provider = Provider(client, Wallet(Keypair()))\n",
    "program = await Program.at(\n",
    "    SBV2_DEVNET_PID, provider\n",
    ")\n",
    "#agg = AggregatorAccount(AccountParams(\n",
    "#    program=program, public_key=PublicKey(\"88FX4tBstuwBPNhQU4EEBoPX35neSu4Le9zDSwtPRRQz\")))\n",
    "\n",
    "agg = AggregatorAccount(AccountParams(program=program, public_key=PublicKey(\"GvDMxPzN1sCj7L26YDK2HnMRXEQmQ2aemov8YBtPS7vR\")))\n",
    "\n",
    "# getting aggregator data\n",
    "data = await agg.load_data()\n",
    "\n",
    "# getting most recent value (decimal.Decimal)\n",
    "val = await agg.get_latest_value()\n",
    "\n",
    "print('LATEST VALUE (SOL/USDC):')\n",
    "print(val)\n",
    "\n",
    "#await program.close()"
   ]
  },
  {
   "cell_type": "markdown",
   "id": "8f5296f9",
   "metadata": {},
   "source": [
    "Further data feeds can be found here\n",
    "https://switchboard.xyz/explorer/2/GvDMxPzN1sCj7L26YDK2HnMRXEQmQ2aemov8YBtPS7vR"
   ]
  },
  {
   "cell_type": "markdown",
   "id": "21538d8b",
   "metadata": {},
   "source": [
    "### Pyth\n",
    "\n",
    "Solana-focused oracle. Makes some smart curation of oracles and provides a mean price as well as a confidence interval.\n",
    "\n"
   ]
  },
  {
   "cell_type": "code",
   "execution_count": 11,
   "id": "5f546883",
   "metadata": {},
   "outputs": [],
   "source": [
    "from pythclient.pythclient import PythClient\n",
    "from pythclient.pythaccounts import PythPriceAccount\n",
    "from pythclient.utils import get_key\n",
    "from pythclient.pythaccounts import PythPriceAccount, PythPriceStatus\n",
    "from pythclient.solana import SolanaClient, SolanaPublicKey, SOLANA_DEVNET_HTTP_ENDPOINT, SOLANA_DEVNET_WS_ENDPOINT"
   ]
  },
  {
   "cell_type": "code",
   "execution_count": 24,
   "id": "0ca6e22e",
   "metadata": {},
   "outputs": [
    {
     "name": "stdout",
     "output_type": "stream",
     "text": [
      "{'symbol': 'Crypto.BCH/USD', 'asset_type': 'Crypto', 'quote_currency': 'USD', 'description': 'BCH/USD', 'generic_symbol': 'BCHUSD', 'base': 'BCH'}\n",
      "PythPriceType.PRICE PythPriceStatus.TRADING 133.71280935000001 p/m 0.05140935\n",
      "{'symbol': 'Crypto.LTC/USD', 'asset_type': 'Crypto', 'quote_currency': 'USD', 'description': 'LTC/USD', 'generic_symbol': 'LTCUSD', 'base': 'LTC'}\n",
      "PythPriceType.PRICE PythPriceStatus.TRADING 58.561609340000004 p/m 0.00937432\n",
      "{'symbol': 'Equity.US.AAPL/USD', 'asset_type': 'Equity', 'quote_currency': 'USD', 'description': 'APPLE INC', 'base': 'AAPL', 'country': 'US', 'cms_symbol': 'AAPL', 'cqs_symbol': 'AAPL', 'nasdaq_symbol': 'AAPL'}\n",
      "PythPriceType.PRICE PythPriceStatus.UNKNOWN None p/m None\n",
      "{'symbol': 'Equity.US.TSLA/USD', 'asset_type': 'Equity', 'quote_currency': 'USD', 'description': 'TESLA INC', 'base': 'TSLA', 'country': 'US', 'cms_symbol': 'TSLA', 'cqs_symbol': 'TSLA', 'nasdaq_symbol': 'TSLA'}\n",
      "PythPriceType.PRICE PythPriceStatus.UNKNOWN None p/m None\n",
      "{'symbol': 'Equity.US.QQQ/USD', 'asset_type': 'Equity', 'quote_currency': 'USD', 'description': 'INVESCO QQQ TRUST SERIES 1', 'base': 'QQQ', 'country': 'US', 'cms_symbol': 'QQQ', 'cqs_symbol': 'QQQ', 'nasdaq_symbol': 'QQQ'}\n",
      "PythPriceType.PRICE PythPriceStatus.TRADING 317.56 p/m 0.030000000000000002\n"
     ]
    }
   ],
   "source": [
    "solana_network=\"devnet\"\n",
    "use_program = None\n",
    "c = PythClient(first_mapping_account_key=get_key(solana_network, \"mapping\"),\n",
    "program_key=get_key(solana_network, \"program\") if use_program else None)\n",
    "await c.refresh_all_prices()\n",
    "products = await c.get_products()\n",
    "for p in products[:5]:\n",
    "    print(p.attrs)\n",
    "    prices = await p.get_prices()\n",
    "    for _, pr in prices.items():\n",
    "        \n",
    "        print(\n",
    "            pr.price_type,\n",
    "            pr.aggregate_price_status,\n",
    "            pr.aggregate_price,\n",
    "            \"p/m\",\n",
    "            pr.aggregate_price_confidence_interval,\n",
    "        )\n",
    "        \n",
    "symbols = ['Crypto.SOL/USD', 'Crypto.ETH/USD','Crypto.BTC/USD']"
   ]
  },
  {
   "cell_type": "code",
   "execution_count": 25,
   "id": "f420acd8",
   "metadata": {},
   "outputs": [
    {
     "name": "stdout",
     "output_type": "stream",
     "text": [
      "Price ETH/USD is 1695.2955265 ± 0.65066994\n"
     ]
    }
   ],
   "source": [
    "eth_account = 'EdVCmQ9FSPcVe5YySXDPCRmc8aDQLKJ9xvYBMZPie1Vw'\n",
    "account_key = SolanaPublicKey(eth_account)\n",
    "solana_client = SolanaClient(endpoint=SOLANA_DEVNET_HTTP_ENDPOINT, ws_endpoint=SOLANA_DEVNET_WS_ENDPOINT)\n",
    "price: PythPriceAccount = PythPriceAccount(account_key, solana_client)\n",
    "\n",
    "await price.update()\n",
    "price_status = price.aggregate_price_status\n",
    "if price_status == PythPriceStatus.TRADING:\n",
    "    # Sample output: \"DOGE/USD is 0.141455 ± 7.4e-05\"\n",
    "    print(\"Price ETH/USD is\", price.aggregate_price, \"±\", price.aggregate_price_confidence_interval)\n",
    "else:\n",
    "    print(\"Price is not valid now. Status is\", price_status)\n",
    "    \n",
    "await solana_client.close()"
   ]
  },
  {
   "cell_type": "code",
   "execution_count": null,
   "id": "c00af394",
   "metadata": {},
   "outputs": [],
   "source": []
  }
 ],
 "metadata": {
  "kernelspec": {
   "display_name": "Python 3 (ipykernel)",
   "language": "python",
   "name": "python3"
  },
  "language_info": {
   "codemirror_mode": {
    "name": "ipython",
    "version": 3
   },
   "file_extension": ".py",
   "mimetype": "text/x-python",
   "name": "python",
   "nbconvert_exporter": "python",
   "pygments_lexer": "ipython3",
   "version": "3.9.12"
  }
 },
 "nbformat": 4,
 "nbformat_minor": 5
}
